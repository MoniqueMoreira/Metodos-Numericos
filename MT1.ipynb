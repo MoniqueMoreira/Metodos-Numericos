{
  "nbformat": 4,
  "nbformat_minor": 0,
  "metadata": {
    "colab": {
      "provenance": [],
      "collapsed_sections": [],
      "authorship_tag": "ABX9TyPlvVKwtnk9JJtghUgmL+n7",
      "include_colab_link": true
    },
    "kernelspec": {
      "name": "python3",
      "display_name": "Python 3"
    },
    "language_info": {
      "name": "python"
    }
  },
  "cells": [
    {
      "cell_type": "markdown",
      "metadata": {
        "id": "view-in-github",
        "colab_type": "text"
      },
      "source": [
        "<a href=\"https://colab.research.google.com/github/MoniqueMoreira/Metodos-Numericos/blob/main/MT1.ipynb\" target=\"_parent\"><img src=\"https://colab.research.google.com/assets/colab-badge.svg\" alt=\"Open In Colab\"/></a>"
      ]
    },
    {
      "cell_type": "code",
      "execution_count": 5,
      "metadata": {
        "id": "YXyl5Wou8eQz"
      },
      "outputs": [],
      "source": [
        "def conversor(a):\n",
        "  c = 0\n",
        "  f = 0\n",
        "  for i in range(len(a)):\n",
        "    if i == 0:\n",
        "      s = int(a[i])\n",
        "    if i <= 11 and i != 0:\n",
        "      c = c + int(a[i])*(2**(11-i))\n",
        "    if i > 11:\n",
        "      f = f + int(a[i])*(0.5**(i-11))\n",
        "  decimal = ((-1)**s)*(2**(c-1023))*(1+f)\n",
        "  print(decimal)\n"
      ]
    },
    {
      "cell_type": "code",
      "source": [
        "def Array(str):\n",
        "  array = list(str)\n",
        "  return array\n"
      ],
      "metadata": {
        "id": "5AMw3z9xICQp"
      },
      "execution_count": 3,
      "outputs": []
    },
    {
      "cell_type": "code",
      "source": [
        "a = Array(\"0100000010101001001100000000000000001000000000001000000000000000\")\n",
        "conversor(a)"
      ],
      "metadata": {
        "colab": {
          "base_uri": "https://localhost:8080/"
        },
        "id": "jVZqe8OwJKn-",
        "outputId": "27220f82-4b74-477b-d99c-2d29ae9f03b6"
      },
      "execution_count": 7,
      "outputs": [
        {
          "output_type": "stream",
          "name": "stdout",
          "text": [
            "3224.0000610500574\n"
          ]
        }
      ]
    },
    {
      "cell_type": "code",
      "source": [
        "a = Array(\"1100000010101001001100000000001000000000000000000000000000000000\")\n",
        "conversor(a)"
      ],
      "metadata": {
        "colab": {
          "base_uri": "https://localhost:8080/"
        },
        "id": "vQbd70d5Xl3I",
        "outputId": "d5549eca-213e-4eb7-d152-3d1bede5f87f"
      },
      "execution_count": 8,
      "outputs": [
        {
          "output_type": "stream",
          "name": "stdout",
          "text": [
            "-3224.00390625\n"
          ]
        }
      ]
    },
    {
      "cell_type": "code",
      "source": [
        "a = Array(\"0011110111110101001100000000000000000000000000000000000001000000\")\n",
        "conversor(a)"
      ],
      "metadata": {
        "colab": {
          "base_uri": "https://localhost:8080/"
        },
        "id": "vbNRuCuxX2ck",
        "outputId": "f55dd5e6-eb5f-41b5-e628-485a1a1137e3"
      },
      "execution_count": 9,
      "outputs": [
        {
          "output_type": "stream",
          "name": "stdout",
          "text": [
            "3.08318703901026e-10\n"
          ]
        }
      ]
    },
    {
      "cell_type": "code",
      "source": [
        "a = Array(\"0010111110110101001100000000000000000000000000000000001000000001\")\n",
        "conversor(a)"
      ],
      "metadata": {
        "colab": {
          "base_uri": "https://localhost:8080/"
        },
        "id": "byy4dXHLX3lG",
        "outputId": "ac347221-b3d8-40ba-f343-5404f9b0abdc"
      },
      "execution_count": 11,
      "outputs": [
        {
          "output_type": "stream",
          "name": "stdout",
          "text": [
            "7.14761020551091e-79\n"
          ]
        }
      ]
    }
  ]
}