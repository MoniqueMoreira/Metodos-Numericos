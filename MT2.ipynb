{
  "nbformat": 4,
  "nbformat_minor": 0,
  "metadata": {
    "colab": {
      "provenance": [],
      "authorship_tag": "ABX9TyM/ygwv10JEbQgcD/Sge7n+",
      "include_colab_link": true
    },
    "kernelspec": {
      "name": "python3",
      "display_name": "Python 3"
    },
    "language_info": {
      "name": "python"
    }
  },
  "cells": [
    {
      "cell_type": "markdown",
      "metadata": {
        "id": "view-in-github",
        "colab_type": "text"
      },
      "source": [
        "<a href=\"https://colab.research.google.com/github/MoniqueMoreira/Metodos-Numericos/blob/main/MT2.ipynb\" target=\"_parent\"><img src=\"https://colab.research.google.com/assets/colab-badge.svg\" alt=\"Open In Colab\"/></a>"
      ]
    },
    {
      "cell_type": "code",
      "execution_count": 17,
      "metadata": {
        "id": "t9VZiHXJae4l"
      },
      "outputs": [],
      "source": [
        "def erro_relativo(p,pa):\n",
        "  sub = p - pa\n",
        "  if sub < 0:\n",
        "    sub = sub*(-1)\n",
        "  if p < 0:\n",
        "    p = p*(-1)\n",
        "  erro = sub/p\n",
        "  print(erro)"
      ]
    },
    {
      "cell_type": "code",
      "source": [
        "import math\n",
        "print(math.pi)\n",
        "print(math.e)"
      ],
      "metadata": {
        "colab": {
          "base_uri": "https://localhost:8080/"
        },
        "id": "jJj24avbgDYE",
        "outputId": "98ef0b14-919f-491c-ea8e-2101a74e90c5"
      },
      "execution_count": 18,
      "outputs": [
        {
          "output_type": "stream",
          "name": "stdout",
          "text": [
            "3.141592653589793\n",
            "2.718281828459045\n"
          ]
        }
      ]
    },
    {
      "cell_type": "code",
      "source": [
        "\n",
        "erro_relativo(3.141592653589793, 3)"
      ],
      "metadata": {
        "colab": {
          "base_uri": "https://localhost:8080/"
        },
        "id": "FTCZSXtVb5Vn",
        "outputId": "8b52b6f0-5c27-4a6c-dc69-b716bd0123b1"
      },
      "execution_count": 19,
      "outputs": [
        {
          "output_type": "stream",
          "name": "stdout",
          "text": [
            "0.04507034144862795\n"
          ]
        }
      ]
    },
    {
      "cell_type": "code",
      "source": [
        "import math\n",
        "erro_relativo(2**(1/2), 1.414)"
      ],
      "metadata": {
        "colab": {
          "base_uri": "https://localhost:8080/"
        },
        "id": "xq4uFGG5e1Rp",
        "outputId": "d65dac2d-c66f-4f8e-fb6e-6f2beff293e2"
      },
      "execution_count": 20,
      "outputs": [
        {
          "output_type": "stream",
          "name": "stdout",
          "text": [
            "0.00015101140222192286\n"
          ]
        }
      ]
    },
    {
      "cell_type": "code",
      "source": [
        "import math\n",
        "erro_relativo(2.718281828459045**10, 22000)"
      ],
      "metadata": {
        "colab": {
          "base_uri": "https://localhost:8080/"
        },
        "id": "OwANESeke2Ar",
        "outputId": "0c34fb1e-ab6c-4b33-c4da-38ef0195f507"
      },
      "execution_count": 21,
      "outputs": [
        {
          "output_type": "stream",
          "name": "stdout",
          "text": [
            "0.0012015452253326688\n"
          ]
        }
      ]
    },
    {
      "cell_type": "code",
      "source": [
        "import math\n",
        "erro_relativo(362880,((18*3.141592653589793)**(1/2))*(9/2.718281828459045)**9)"
      ],
      "metadata": {
        "colab": {
          "base_uri": "https://localhost:8080/"
        },
        "id": "l5xP1UH7e3uT",
        "outputId": "cf6b4e71-ade7-4f8f-9548-3573cb56028c"
      },
      "execution_count": 22,
      "outputs": [
        {
          "output_type": "stream",
          "name": "stdout",
          "text": [
            "0.009212762230080598\n"
          ]
        }
      ]
    }
  ]
}