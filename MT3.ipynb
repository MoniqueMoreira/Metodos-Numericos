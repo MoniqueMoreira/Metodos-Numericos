{
  "nbformat": 4,
  "nbformat_minor": 0,
  "metadata": {
    "colab": {
      "provenance": [],
      "authorship_tag": "ABX9TyPNgsYOG0HqjMaqI/wyoJZS",
      "include_colab_link": true
    },
    "kernelspec": {
      "name": "python3",
      "display_name": "Python 3"
    },
    "language_info": {
      "name": "python"
    }
  },
  "cells": [
    {
      "cell_type": "markdown",
      "metadata": {
        "id": "view-in-github",
        "colab_type": "text"
      },
      "source": [
        "<a href=\"https://colab.research.google.com/github/MoniqueMoreira/Metodos-Numericos/blob/main/MT3.ipynb\" target=\"_parent\"><img src=\"https://colab.research.google.com/assets/colab-badge.svg\" alt=\"Open In Colab\"/></a>"
      ]
    },
    {
      "cell_type": "markdown",
      "source": [
        "\n",
        "\n",
        "```\n",
        "|p - p*|/|p| <= Erro_R\n",
        "\n",
        "|p - p*| <= Erro_R*|p|\n",
        "\n",
        "Sendo p >= 0, temos:\n",
        "\n",
        "Se p - p* > 0 -> |p - p*| = p - p*\n",
        "  # p - p* <= Erro_R*p\n",
        "Se p - p* < 0 -> |p - p*| = -(p - p*)\n",
        "  # -(p - p* )<= Erro_R*p\n",
        "  # p - P* >= - Erro_R*P\n",
        "\n",
        "\n",
        "-Erro_R*p - p<= -p* <= Erro_R*p - p\n",
        "\n",
        "p + Erro_R*p >= p* >= p - Erro_R*p\n",
        "\n",
        "Reescrevendo: \n",
        "\n",
        "p - Erro_R*p <= p* <= p + Erro_R*p\n",
        "\n",
        "Portanto [p - p*Erro_R, p + p*Erro_R] \n",
        "```\n",
        "\n"
      ],
      "metadata": {
        "id": "13lFwXZEWVFt"
      }
    },
    {
      "cell_type": "code",
      "execution_count": 7,
      "metadata": {
        "id": "qjkIR_pKWP38"
      },
      "outputs": [],
      "source": [
        "def intervalos(p,Erro_R):\n",
        "  print(\"[\",p - (p*Erro_R),\",\", p + (p*Erro_R),\"]\")"
      ]
    },
    {
      "cell_type": "code",
      "source": [
        "intervalos(150,10**(-3))"
      ],
      "metadata": {
        "colab": {
          "base_uri": "https://localhost:8080/"
        },
        "id": "RaGi_mgLbU9f",
        "outputId": "4a385d1d-8f17-48ed-dc21-a700704dbe04"
      },
      "execution_count": 8,
      "outputs": [
        {
          "output_type": "stream",
          "name": "stdout",
          "text": [
            "[ 149.85 , 150.15 ]\n"
          ]
        }
      ]
    },
    {
      "cell_type": "code",
      "source": [
        "intervalos(900,10**(-3))"
      ],
      "metadata": {
        "colab": {
          "base_uri": "https://localhost:8080/"
        },
        "id": "B5zcAJm9b3V0",
        "outputId": "159f47ff-d43b-4f5f-9f9e-97994631eba9"
      },
      "execution_count": 9,
      "outputs": [
        {
          "output_type": "stream",
          "name": "stdout",
          "text": [
            "[ 899.1 , 900.9 ]\n"
          ]
        }
      ]
    },
    {
      "cell_type": "code",
      "source": [
        "intervalos(1500,10**(-3))"
      ],
      "metadata": {
        "colab": {
          "base_uri": "https://localhost:8080/"
        },
        "id": "OLqWpYeQb3eq",
        "outputId": "f3c771c0-450d-4cfc-b192-40a5dab1a946"
      },
      "execution_count": 11,
      "outputs": [
        {
          "output_type": "stream",
          "name": "stdout",
          "text": [
            "[ 1498.5 , 1501.5 ]\n"
          ]
        }
      ]
    },
    {
      "cell_type": "code",
      "source": [
        "intervalos(90,10**(-3))"
      ],
      "metadata": {
        "colab": {
          "base_uri": "https://localhost:8080/"
        },
        "id": "RqPcofM1b3oT",
        "outputId": "4a390175-2e34-4ef1-cd86-94bdbf6744b8"
      },
      "execution_count": 10,
      "outputs": [
        {
          "output_type": "stream",
          "name": "stdout",
          "text": [
            "[ 89.91 , 90.09 ]\n"
          ]
        }
      ]
    }
  ]
}