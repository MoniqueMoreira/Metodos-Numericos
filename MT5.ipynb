{
  "nbformat": 4,
  "nbformat_minor": 0,
  "metadata": {
    "colab": {
      "provenance": [],
      "collapsed_sections": [],
      "authorship_tag": "ABX9TyNpC0GC6HjRq3xNaJzvDLA1",
      "include_colab_link": true
    },
    "kernelspec": {
      "name": "python3",
      "display_name": "Python 3"
    },
    "language_info": {
      "name": "python"
    }
  },
  "cells": [
    {
      "cell_type": "markdown",
      "metadata": {
        "id": "view-in-github",
        "colab_type": "text"
      },
      "source": [
        "<a href=\"https://colab.research.google.com/github/MoniqueMoreira/Metodos-Numericos/blob/main/MT5.ipynb\" target=\"_parent\"><img src=\"https://colab.research.google.com/assets/colab-badge.svg\" alt=\"Open In Colab\"/></a>"
      ]
    },
    {
      "cell_type": "code",
      "source": [
        "import matplotlib.pyplot as plt\n",
        "\n",
        "def f(x):\n",
        "  return x**3 + x**2 - 6*x + 1\n",
        "def f_linha(x): # derivada de f(x)\n",
        "  return 3*(x)**2 + 2*(x) - 6\n",
        "\n",
        "x = []\n",
        "y = []\n",
        "for i in range(-10,11):\n",
        "  x.append(i)\n",
        "  y.append(f(i))\n",
        "\n",
        "x1 = []\n",
        "y1 = []\n",
        "for i in range(-10,11):\n",
        "  x1.append(i)\n",
        "  y1.append(f_linha(i))\n",
        "\n",
        "print(x)\n",
        "print(y)\n",
        "plt.plot(x1,y1, label = \"x^3 + x^2 - 6x + 1\")\n",
        "plt.plot(x,y, label = \"3x^2 + 2x) - 6\")\n",
        "plt.legend()\n",
        "plt.show()"
      ],
      "metadata": {
        "colab": {
          "base_uri": "https://localhost:8080/",
          "height": 300
        },
        "id": "pjG4aZ_YrRPL",
        "outputId": "26836810-b644-479c-db76-ccab0146846b"
      },
      "execution_count": 117,
      "outputs": [
        {
          "output_type": "stream",
          "name": "stdout",
          "text": [
            "[-10, -9, -8, -7, -6, -5, -4, -3, -2, -1, 0, 1, 2, 3, 4, 5, 6, 7, 8, 9, 10]\n",
            "[-839, -593, -399, -251, -143, -69, -23, 1, 9, 7, 1, -3, 1, 19, 57, 121, 217, 351, 529, 757, 1041]\n"
          ]
        },
        {
          "output_type": "display_data",
          "data": {
            "text/plain": [
              "<Figure size 432x288 with 1 Axes>"
            ],
            "image/png": "[encoded data removed]"
          },
          "metadata": {
            "needs_background": "light"
          }
        }
      ]
    },
    {
      "cell_type": "code",
      "execution_count": 105,
      "metadata": {
        "id": "vhdRl9afiKdQ"
      },
      "outputs": [],
      "source": [
        "def Bisseccao(a,b,tol,Nmax):\n",
        "  fa = f(a)\n",
        "  for i in range(Nmax):\n",
        "    p = a + (b - a)/2\n",
        "    fp = f(p)\n",
        "    if fp == 0 or (b-a)/2 <tol:\n",
        "      print(p)\n",
        "      print(f(p))\n",
        "      return\n",
        "    if (fa*fp) > 0:\n",
        "      a = p\n",
        "      fa = fp\n",
        "    else:\n",
        "      b = p\n",
        "  print('NMAX ATINGIDO')"
      ]
    },
    {
      "cell_type": "code",
      "source": [
        "p = Bisseccao(1,5,0.0001,100)\n",
        "\n"
      ],
      "metadata": {
        "colab": {
          "base_uri": "https://localhost:8080/"
        },
        "id": "3fHXwRQOrrli",
        "outputId": "6cb897a3-001a-4352-cfb8-31b04a80f295"
      },
      "execution_count": 106,
      "outputs": [
        {
          "output_type": "stream",
          "name": "stdout",
          "text": [
            "1.89190673828125\n",
            "-0.0004065228174567892\n"
          ]
        }
      ]
    },
    {
      "cell_type": "code",
      "source": [
        "def f(x):\n",
        "  return x**3 + x**2 - 6*x + 1\n",
        "\n",
        "def f_linha(x): # derivada de f(x)\n",
        "  return 3*(x)**2 + 2*(x) - 6\n",
        "\n",
        "def Newton(p0,tol,Nmax):\n",
        "  for i in range(Nmax):\n",
        "    p = p0 - (f(p0)/f_linha(p0))\n",
        "    if abs(p - p0) < tol:\n",
        "      print(p)\n",
        "      print(f(p))\n",
        "      return\n",
        "    else:\n",
        "      p0 = p"
      ],
      "metadata": {
        "id": "57_ykxGF4cvk"
      },
      "execution_count": 112,
      "outputs": []
    },
    {
      "cell_type": "code",
      "source": [
        "p = Newton(1,0.0001,100)"
      ],
      "metadata": {
        "colab": {
          "base_uri": "https://localhost:8080/"
        },
        "id": "BxVNJNfqCayA",
        "outputId": "0d0da661-0b4e-4081-ec89-b339f62ffe34"
      },
      "execution_count": 113,
      "outputs": [
        {
          "output_type": "stream",
          "name": "stdout",
          "text": [
            "-3.064434534271202\n",
            "-7.614620045615084e-09\n"
          ]
        }
      ]
    }
  ]
}