{
  "nbformat": 4,
  "nbformat_minor": 0,
  "metadata": {
    "colab": {
      "provenance": [],
      "collapsed_sections": [],
      "authorship_tag": "ABX9TyPZ7e+pEj0zpAAPxU+X6LMQ",
      "include_colab_link": true
    },
    "kernelspec": {
      "name": "python3",
      "display_name": "Python 3"
    },
    "language_info": {
      "name": "python"
    }
  },
  "cells": [
    {
      "cell_type": "markdown",
      "metadata": {
        "id": "view-in-github",
        "colab_type": "text"
      },
      "source": [
        "<a href=\"https://colab.research.google.com/github/MoniqueMoreira/Metodos-Numericos/blob/main/MT5.ipynb\" target=\"_parent\"><img src=\"https://colab.research.google.com/assets/colab-badge.svg\" alt=\"Open In Colab\"/></a>"
      ]
    },
    {
      "cell_type": "markdown",
      "source": [],
      "metadata": {
        "id": "NQLu8tk2iM6t"
      }
    },
    {
      "cell_type": "code",
      "execution_count": 83,
      "metadata": {
        "id": "vhdRl9afiKdQ"
      },
      "outputs": [],
      "source": [
        "def Bisseccao(a,b,tol,Nmax):\n",
        "  fa = f(a)\n",
        "  for i in range(Nmax):\n",
        "    p = (a + (b-a))/2\n",
        "    fp = f(p)\n",
        "    if fp == 0 or (b-a)/2 <tol:\n",
        "      return p\n",
        "    if fa*fp > 0:\n",
        "      a = p\n",
        "      fa = fp\n",
        "    else:\n",
        "      b = p\n",
        "\n",
        "  print('NMAX ATINGIDO')"
      ]
    },
    {
      "cell_type": "code",
      "source": [
        "p = Bisseccao(-200,4,0.000001,100)\n",
        "print(p)\n",
        "print(f(p))\n"
      ],
      "metadata": {
        "colab": {
          "base_uri": "https://localhost:8080/"
        },
        "id": "3fHXwRQOrrli",
        "outputId": "6e8bc108-7b3a-4daf-c536-cd0af29bc18b"
      },
      "execution_count": 84,
      "outputs": [
        {
          "output_type": "stream",
          "name": "stdout",
          "text": [
            "1.0\n",
            "0.0\n"
          ]
        }
      ]
    },
    {
      "cell_type": "code",
      "source": [
        "import matplotlib.pyplot as plt\n",
        "\n",
        "def f(x):\n",
        "  return (x**3 - 2*x + 1)\n",
        "\n",
        "x = []\n",
        "y = []\n",
        "for i in range(-5,5):\n",
        "  x.append(i)\n",
        "  y.append(f(i))\n",
        "\n",
        "print(x)\n",
        "print(y)\n",
        "plt.plot(x,y)\n",
        "plt.show()"
      ],
      "metadata": {
        "colab": {
          "base_uri": "https://localhost:8080/",
          "height": 300
        },
        "id": "pjG4aZ_YrRPL",
        "outputId": "581099c5-e475-4219-d2b3-009527e31dce"
      },
      "execution_count": 77,
      "outputs": [
        {
          "output_type": "stream",
          "name": "stdout",
          "text": [
            "[-5, -4, -3, -2, -1, 0, 1, 2, 3, 4]\n",
            "[-114, -55, -20, -3, 2, 1, 0, 5, 22, 57]\n"
          ]
        },
        {
          "output_type": "display_data",
          "data": {
            "text/plain": [
              "<Figure size 432x288 with 1 Axes>"
            ],
            "image/png": "[encoded data removed]"
          },
          "metadata": {
            "needs_background": "light"
          }
        }
      ]
    },
    {
      "cell_type": "code",
      "source": [
        "def newton():\n",
        "  pass"
      ],
      "metadata": {
        "id": "57_ykxGF4cvk"
      },
      "execution_count": null,
      "outputs": []
    }
  ]
}