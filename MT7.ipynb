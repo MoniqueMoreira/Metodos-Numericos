{
  "nbformat": 4,
  "nbformat_minor": 0,
  "metadata": {
    "colab": {
      "provenance": [],
      "authorship_tag": "ABX9TyPHyCd3nZfhWjS6eUEOz3b2",
      "include_colab_link": true
    },
    "kernelspec": {
      "name": "python3",
      "display_name": "Python 3"
    },
    "language_info": {
      "name": "python"
    }
  },
  "cells": [
    {
      "cell_type": "markdown",
      "metadata": {
        "id": "view-in-github",
        "colab_type": "text"
      },
      "source": [
        "<a href=\"https://colab.research.google.com/github/MoniqueMoreira/Metodos-Numericos/blob/main/MT7.ipynb\" target=\"_parent\"><img src=\"https://colab.research.google.com/assets/colab-badge.svg\" alt=\"Open In Colab\"/></a>"
      ]
    },
    {
      "cell_type": "code",
      "execution_count": 7,
      "metadata": {
        "id": "S31L9q9MHOO4"
      },
      "outputs": [],
      "source": [
        "def f(x):\n",
        "  return x**3 + x**2 - 6*x + 1\n",
        "\n",
        "def f_linha(x): # derivada de f(x)\n",
        "  return 3*(x)**2 + 2*(x) - 6\n",
        "\n",
        "def Newton(p0,tol,Nmax):\n",
        "  pn =[]\n",
        "  for i in range(Nmax):\n",
        "    pn.append(p0)\n",
        "    p = p0 - (f(p0)/f_linha(p0))\n",
        "    if abs(p - p0) < tol:\n",
        "      return pn\n",
        "    else:\n",
        "      p0 = p"
      ]
    },
    {
      "cell_type": "code",
      "source": [
        "pn = Newton(-20,0.0001,100)\n",
        "print(pn)"
      ],
      "metadata": {
        "colab": {
          "base_uri": "https://localhost:8080/"
        },
        "id": "Ecq9cFOzIamV",
        "outputId": "b6e8c6ab-d0ca-4608-899c-1f54cbc08610"
      },
      "execution_count": 8,
      "outputs": [
        {
          "output_type": "stream",
          "name": "stdout",
          "text": [
            "[-20, -13.519064124783363, -9.237835750776417, -6.445324154271122, -4.681129500519181, -3.6572880112947073, -3.1873796745420715, -3.071480869934086, -3.0644597521677066]\n"
          ]
        }
      ]
    }
  ]
}