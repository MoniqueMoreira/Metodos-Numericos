{
  "nbformat": 4,
  "nbformat_minor": 0,
  "metadata": {
    "colab": {
      "provenance": [],
      "authorship_tag": "ABX9TyMHwG8rTHdVIkATOvMGeeVA",
      "include_colab_link": true
    },
    "kernelspec": {
      "name": "python3",
      "display_name": "Python 3"
    },
    "language_info": {
      "name": "python"
    }
  },
  "cells": [
    {
      "cell_type": "markdown",
      "metadata": {
        "id": "view-in-github",
        "colab_type": "text"
      },
      "source": [
        "<a href=\"https://colab.research.google.com/github/MoniqueMoreira/Metodos-Numericos/blob/main/MT7.ipynb\" target=\"_parent\"><img src=\"https://colab.research.google.com/assets/colab-badge.svg\" alt=\"Open In Colab\"/></a>"
      ]
    },
    {
      "cell_type": "code",
      "execution_count": 9,
      "metadata": {
        "id": "S31L9q9MHOO4"
      },
      "outputs": [],
      "source": [
        "def f(x):\n",
        "  return x**3 + x**2 - 6*x + 1\n",
        "\n",
        "def f_linha(x): # derivada de f(x)\n",
        "  return 3*(x)**2 + 2*(x) - 6\n",
        "\n",
        "def Newton(p0,tol,Nmax):\n",
        "  pn =[]\n",
        "  for i in range(Nmax):\n",
        "    pn.append(f(p0))\n",
        "    p = p0 - (f(p0)/f_linha(p0))\n",
        "    if abs(p - p0) < tol:\n",
        "      return pn\n",
        "    else:\n",
        "      p0 = p"
      ]
    },
    {
      "cell_type": "code",
      "source": [
        "pn = Newton(-3,0.0001,100)\n",
        "print(pn)"
      ],
      "metadata": {
        "colab": {
          "base_uri": "https://localhost:8080/"
        },
        "id": "Ecq9cFOzIamV",
        "outputId": "ea83f3a6-eb8d-4815-e17f-b7b2a59285a3"
      },
      "execution_count": 12,
      "outputs": [
        {
          "output_type": "stream",
          "name": "stdout",
          "text": [
            "[1, -0.0358518518518558, -4.075180489948593e-05]\n"
          ]
        }
      ]
    }
  ]
}