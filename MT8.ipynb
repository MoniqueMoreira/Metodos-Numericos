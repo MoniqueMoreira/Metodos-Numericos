{
  "nbformat": 4,
  "nbformat_minor": 0,
  "metadata": {
    "colab": {
      "provenance": [],
      "authorship_tag": "ABX9TyN0rbfWuy7FVJ7+fzFLPLmh",
      "include_colab_link": true
    },
    "kernelspec": {
      "name": "python3",
      "display_name": "Python 3"
    },
    "language_info": {
      "name": "python"
    }
  },
  "cells": [
    {
      "cell_type": "markdown",
      "metadata": {
        "id": "view-in-github",
        "colab_type": "text"
      },
      "source": [
        "<a href=\"https://colab.research.google.com/github/MoniqueMoreira/Metodos-Numericos/blob/main/MT8.ipynb\" target=\"_parent\"><img src=\"https://colab.research.google.com/assets/colab-badge.svg\" alt=\"Open In Colab\"/></a>"
      ]
    },
    {
      "cell_type": "code",
      "source": [
        "import matplotlib.pyplot as plt\n",
        "\n",
        "def f(x):\n",
        "  return x**3 + x**2 - 6*x + 1\n",
        "\n",
        "def f_linha(x): # derivada de f(x)\n",
        "  return 3*(x)**2 + 2*(x) - 6\n",
        "\n",
        "def Algoritmo_6(a, b, delta,x,y):\n",
        "  for i in range(a,b,delta):\n",
        "    x.append(i)\n",
        "    y.append(f(i))\n",
        "\n",
        "def Algoritmo_7(p0,tol,Nmax,pn,fpn):\n",
        "  for i in range(Nmax):\n",
        "    pn.append(p0)\n",
        "    fpn.append(f(p0))\n",
        "    p = p0 - (f(p0)/f_linha(p0))\n",
        "    if abs(p - p0) < tol:\n",
        "      return pn\n",
        "    else:\n",
        "      p0 = p\n",
        "\n",
        "\n",
        "def main():\n",
        "  x = []\n",
        "  y = []\n",
        "  pn =[]\n",
        "  fpn = []\n",
        "  Algoritmo_6(-5,5,1,x,y)\n",
        "  plt.plot(x,y, label = \"f(x)\")\n",
        "  Algoritmo_7(-5,0.00001,100, pn,fpn)\n",
        "  plt.plot(pn,fpn, label = \"Aproximação\")\n",
        "  plt.legend()\n",
        "  plt.show()"
      ],
      "metadata": {
        "id": "slSXRRw5KjHg"
      },
      "execution_count": 16,
      "outputs": []
    },
    {
      "cell_type": "code",
      "execution_count": 17,
      "metadata": {
        "colab": {
          "base_uri": "https://localhost:8080/",
          "height": 265
        },
        "id": "Krzo5lYAKZKT",
        "outputId": "fe5839a1-cc50-4435-9e3c-8fff9fb18754"
      },
      "outputs": [
        {
          "output_type": "display_data",
          "data": {
            "text/plain": [
              "<Figure size 432x288 with 1 Axes>"
            ],
            "image/png": "[encoded data removed]"
          },
          "metadata": {
            "needs_background": "light"
          }
        }
      ],
      "source": [
        "main()"
      ]
    }
  ]
}